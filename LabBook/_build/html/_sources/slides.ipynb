{
 "cells": [
  {
   "cell_type": "markdown",
   "id": "47152895",
   "metadata": {},
   "source": [
    "# Slides\n",
    "\n",
    "## Kalman Filters\n",
    "\n",
    "How they work and why you should use them.\n",
    "*Malachi Hibbins*\n",
    "\n",
    "---\n",
    "\n",
    "## Introduction\n",
    "- Kalman filters are an optimal estimation algorithm which looks at noisy measurements and attempts to predict the true state \n",
    "- A Kalman filter considers:\n",
    "- **The model**: *Predicts* the next state from the current state *estimate*.\n",
    "- **The measurement** containing noise\n",
    "- And combines these to form an *updated estimate* of the state.\n",
    "\n",
    "---\n",
    "## Prediction \n",
    "\n",
    "- The true state, $x_k$, evolves according to the linear model defined in $A$:\n",
    "$$x_{k+1} = Ax_k + w_k$$\n",
    "- $w_k$ is white noise associated with the linear process. \n",
    "- We don't have access to $x_k$ or only its estimate $\\hat{x}_k$. \n",
    "- We can predict the state:\n",
    "$$\\hat{x}^-_{k+1} = A \\hat{x}_k$$\n",
    "- And its associated error covariance matrix:\n",
    "$$P^-_k = AP_kA^T+Q$$\n",
    "- $P_k$ and $P^-_k$ are error covariance matrices for $\\hat{x}_k$ and $\\hat{x}^-_k$\n",
    "- $Q$ is the error covariance matrix for $w_k$ "
   ]
  }
 ],
 "metadata": {
  "jupytext": {
   "cell_metadata_filter": "-all",
   "main_language": "python",
   "notebook_metadata_filter": "-all"
  },
  "language_info": {
   "name": "python"
  }
 },
 "nbformat": 4,
 "nbformat_minor": 5
}
